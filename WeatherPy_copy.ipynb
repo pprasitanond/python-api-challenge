{
 "cells": [
  {
   "cell_type": "code",
   "execution_count": 3,
   "metadata": {},
   "outputs": [],
   "source": [
    "# Insights\n",
    "# For Part I, you must include a written description of three observable trends based on the data.\n",
    "# "
   ]
  },
  {
   "cell_type": "markdown",
   "metadata": {},
   "source": [
    "# WeatherPy\n",
    "----\n",
    "\n",
    "#### Note\n",
    "* Instructions have been included for each segment. You do not have to follow them exactly, but they are included to help you think through the steps."
   ]
  },
  {
   "cell_type": "code",
   "execution_count": 64,
   "metadata": {
    "scrolled": true
   },
   "outputs": [],
   "source": [
    "\n",
    "# Dependencies and Setup\n",
    "import matplotlib.pyplot as plt\n",
    "import pandas as pd\n",
    "import numpy as np\n",
    "import requests\n",
    "import json\n",
    "import time\n",
    "from scipy.stats import linregress\n",
    "\n",
    "# Import API key\n",
    "from api_keys_copy import weather_api_key\n",
    "temp_units = \"imperial\"\n",
    "\n",
    "# Incorporated citipy to determine city based on latitude and longitude\n",
    "from citipy import citipy\n",
    "\n",
    "# Output File (CSV)\n",
    "output_data_file = \"cities_copy.csv\"\n",
    "\n",
    "# Range of latitudes and longitudes\n",
    "lat_range = (-90, 90)\n",
    "lng_range = (-180, 180)\n",
    "\n",
    "# define count of pass throughs\n",
    "count_one = 0\n",
    "set_one = 1"
   ]
  },
  {
   "cell_type": "markdown",
   "metadata": {},
   "source": [
    "## Generate Cities List"
   ]
  },
  {
   "cell_type": "code",
   "execution_count": 43,
   "metadata": {},
   "outputs": [
    {
     "data": {
      "text/plain": [
       "611"
      ]
     },
     "execution_count": 43,
     "metadata": {},
     "output_type": "execute_result"
    }
   ],
   "source": [
    "# List for holding lat_lngs and cities\n",
    "lat_lngs = []\n",
    "cities = []\n",
    "\n",
    "# Create a set of random lat and lng combinations\n",
    "lats = np.random.uniform(lat_range[0], lat_range[1], size=1500)\n",
    "lngs = np.random.uniform(lng_range[0], lng_range[1], size=1500)\n",
    "lat_lngs = zip(lats, lngs)\n",
    "\n",
    "# Identify nearest city for each lat, lng combination\n",
    "for lat_lng in lat_lngs:\n",
    "    city = citipy.nearest_city(lat_lng[0], lat_lng[1]).city_name\n",
    "    \n",
    "    # If the city is unique, then add it to a our cities list\n",
    "    if city not in cities:\n",
    "        cities.append(city)\n",
    "\n",
    "# Print the city count to confirm sufficient count\n",
    "len(cities)"
   ]
  },
  {
   "cell_type": "markdown",
   "metadata": {},
   "source": [
    "### Perform API Calls\n",
    "* Perform a weather check on each city using a series of successive API calls.\n",
    "* Include a print log of each city as it'sbeing processed (with the city number and city name).\n"
   ]
  },
  {
   "cell_type": "code",
   "execution_count": 44,
   "metadata": {},
   "outputs": [
    {
     "name": "stdout",
     "output_type": "stream",
     "text": [
      "Beginning Data Retrieval\n",
      "-----------------------------\n",
      "Processing Record 1 of Set 1 | buarcos\n",
      "Processing Record 2 of Set 1 | jamestown\n",
      "Processing Record 3 of Set 1 | vaini\n",
      "Processing Record 4 of Set 1 | kapaa\n",
      "Processing Record 5 of Set 1 | karpinsk\n",
      "Processing Record 6 of Set 1 | bluff\n",
      "Processing Record 7 of Set 1 | wildwood\n",
      "Processing Record 8 of Set 1 | saint george\n",
      "Processing Record 9 of Set 1 | nikolskoye\n",
      "Processing Record 10 of Set 1 | axim\n",
      "City not found. Skipping...\n",
      "Processing Record 11 of Set 1 | bowen\n",
      "Processing Record 12 of Set 1 | hilo\n",
      "Processing Record 13 of Set 1 | aosta\n",
      "Processing Record 14 of Set 1 | moore\n",
      "Processing Record 15 of Set 1 | cape town\n",
      "Processing Record 16 of Set 1 | padang\n",
      "Processing Record 17 of Set 1 | rocha\n",
      "Processing Record 18 of Set 1 | haines junction\n",
      "Processing Record 19 of Set 1 | hermanus\n",
      "Processing Record 20 of Set 1 | faanui\n",
      "Processing Record 21 of Set 1 | mataura\n",
      "Processing Record 22 of Set 1 | busselton\n",
      "Processing Record 23 of Set 1 | nouadhibou\n",
      "Processing Record 24 of Set 1 | puerto ayora\n",
      "Processing Record 25 of Set 1 | bonavista\n",
      "Processing Record 26 of Set 1 | marawi\n",
      "Processing Record 27 of Set 1 | lata\n",
      "Processing Record 28 of Set 1 | mar del plata\n",
      "Processing Record 29 of Set 1 | new norfolk\n",
      "Processing Record 30 of Set 1 | vila\n",
      "Processing Record 31 of Set 1 | lompoc\n",
      "City not found. Skipping...\n",
      "Processing Record 32 of Set 1 | rikitea\n",
      "Processing Record 33 of Set 1 | lagoa\n",
      "Processing Record 34 of Set 1 | egvekinot\n",
      "Processing Record 35 of Set 1 | kulunda\n",
      "Processing Record 36 of Set 1 | lavrentiya\n",
      "Processing Record 37 of Set 1 | atuona\n",
      "Processing Record 38 of Set 1 | albany\n",
      "Processing Record 39 of Set 1 | kaputa\n",
      "Processing Record 40 of Set 1 | port alfred\n",
      "Processing Record 41 of Set 1 | russell\n",
      "Processing Record 42 of Set 1 | qaanaaq\n",
      "Processing Record 43 of Set 1 | punta arenas\n",
      "Processing Record 44 of Set 1 | codrington\n",
      "Processing Record 45 of Set 1 | suez\n",
      "Processing Record 46 of Set 1 | tezu\n",
      "Processing Record 47 of Set 1 | kachiry\n",
      "Processing Record 48 of Set 1 | sitka\n",
      "City not found. Skipping...\n",
      "Processing Record 49 of Set 1 | sao borja\n",
      "Processing Record 1 of Set 2 | riyadh\n",
      "Processing Record 2 of Set 2 | camargo\n",
      "Processing Record 3 of Set 2 | ushuaia\n",
      "City not found. Skipping...\n",
      "Processing Record 4 of Set 2 | sao filipe\n",
      "Processing Record 5 of Set 2 | karratha\n",
      "City not found. Skipping...\n",
      "Processing Record 6 of Set 2 | madaripur\n",
      "Processing Record 7 of Set 2 | marystown\n",
      "Processing Record 8 of Set 2 | palmer\n",
      "Processing Record 9 of Set 2 | yellowknife\n",
      "Processing Record 10 of Set 2 | salalah\n",
      "Processing Record 11 of Set 2 | baculin\n",
      "Processing Record 12 of Set 2 | san quintin\n",
      "Processing Record 13 of Set 2 | gornyak\n",
      "Processing Record 14 of Set 2 | bengkulu\n",
      "Processing Record 15 of Set 2 | chicama\n",
      "Processing Record 16 of Set 2 | tura\n",
      "Processing Record 17 of Set 2 | alofi\n",
      "Processing Record 18 of Set 2 | muriwai beach\n",
      "Processing Record 19 of Set 2 | dzhebariki-khaya\n",
      "Processing Record 20 of Set 2 | khatanga\n",
      "Processing Record 21 of Set 2 | katobu\n",
      "City not found. Skipping...\n",
      "City not found. Skipping...\n",
      "City not found. Skipping...\n",
      "Processing Record 22 of Set 2 | rawson\n",
      "City not found. Skipping...\n",
      "Processing Record 23 of Set 2 | bambous virieux\n",
      "Processing Record 24 of Set 2 | beidao\n",
      "Processing Record 25 of Set 2 | shubarkuduk\n",
      "Processing Record 26 of Set 2 | bandarbeyla\n",
      "Processing Record 27 of Set 2 | hobart\n",
      "Processing Record 28 of Set 2 | la union\n",
      "Processing Record 29 of Set 2 | maua\n",
      "Processing Record 30 of Set 2 | eluru\n",
      "Processing Record 31 of Set 2 | viedma\n",
      "Processing Record 32 of Set 2 | yumbe\n",
      "Processing Record 33 of Set 2 | hasaki\n",
      "Processing Record 34 of Set 2 | east london\n",
      "Processing Record 35 of Set 2 | college\n",
      "Processing Record 36 of Set 2 | cabedelo\n",
      "Processing Record 37 of Set 2 | carnarvon\n",
      "Processing Record 38 of Set 2 | avarua\n",
      "Processing Record 39 of Set 2 | maniitsoq\n",
      "Processing Record 40 of Set 2 | diffa\n",
      "Processing Record 41 of Set 2 | bethel\n",
      "Processing Record 42 of Set 2 | coolum beach\n",
      "Processing Record 43 of Set 2 | tanete\n",
      "Processing Record 44 of Set 2 | gravdal\n",
      "Processing Record 45 of Set 2 | pisco\n",
      "Processing Record 46 of Set 2 | dikson\n",
      "City not found. Skipping...\n",
      "Processing Record 47 of Set 2 | tasiilaq\n",
      "Processing Record 48 of Set 2 | teguise\n",
      "Processing Record 49 of Set 2 | saint-philippe\n",
      "Processing Record 1 of Set 3 | longyearbyen\n",
      "Processing Record 2 of Set 3 | champasak\n",
      "Processing Record 3 of Set 3 | nipawin\n",
      "City not found. Skipping...\n",
      "Processing Record 4 of Set 3 | naze\n",
      "Processing Record 5 of Set 3 | ranong\n",
      "Processing Record 6 of Set 3 | kattivakkam\n",
      "Processing Record 7 of Set 3 | vao\n",
      "Processing Record 8 of Set 3 | izumo\n",
      "Processing Record 9 of Set 3 | provideniya\n",
      "Processing Record 10 of Set 3 | yumen\n",
      "Processing Record 11 of Set 3 | fortaleza\n",
      "Processing Record 12 of Set 3 | buraydah\n",
      "Processing Record 13 of Set 3 | lebu\n",
      "City not found. Skipping...\n",
      "Processing Record 14 of Set 3 | saldanha\n",
      "Processing Record 15 of Set 3 | walvis bay\n",
      "Processing Record 16 of Set 3 | sibenik\n",
      "City not found. Skipping...\n",
      "Processing Record 17 of Set 3 | aguimes\n",
      "Processing Record 18 of Set 3 | butaritari\n",
      "City not found. Skipping...\n",
      "Processing Record 19 of Set 3 | esperance\n",
      "Processing Record 20 of Set 3 | fukue\n",
      "Processing Record 21 of Set 3 | khowst\n",
      "Processing Record 22 of Set 3 | hithadhoo\n",
      "Processing Record 23 of Set 3 | malanje\n",
      "Processing Record 24 of Set 3 | potchefstroom\n",
      "Processing Record 25 of Set 3 | alice springs\n",
      "Processing Record 26 of Set 3 | barrow\n",
      "Processing Record 27 of Set 3 | ushirombo\n",
      "Processing Record 28 of Set 3 | derzhavinsk\n",
      "Processing Record 29 of Set 3 | saint-pierre\n",
      "Processing Record 30 of Set 3 | pedernales\n",
      "Processing Record 31 of Set 3 | kvarkeno\n",
      "City not found. Skipping...\n",
      "Processing Record 32 of Set 3 | saint anthony\n",
      "Processing Record 33 of Set 3 | babu\n",
      "Processing Record 34 of Set 3 | chokurdakh\n",
      "Processing Record 35 of Set 3 | victoria\n",
      "Processing Record 36 of Set 3 | mount gambier\n",
      "Processing Record 37 of Set 3 | georgetown\n",
      "Processing Record 38 of Set 3 | kousseri\n",
      "Processing Record 39 of Set 3 | port elizabeth\n",
      "Processing Record 40 of Set 3 | lasa\n",
      "Processing Record 41 of Set 3 | kalamaria\n",
      "Processing Record 42 of Set 3 | vila velha\n",
      "Processing Record 43 of Set 3 | lieksa\n",
      "Processing Record 44 of Set 3 | cao bang\n",
      "City not found. Skipping...\n",
      "Processing Record 45 of Set 3 | novoagansk\n",
      "Processing Record 46 of Set 3 | hambantota\n",
      "Processing Record 47 of Set 3 | nakamura\n",
      "Processing Record 48 of Set 3 | biga\n",
      "Processing Record 49 of Set 3 | madison\n",
      "Processing Record 1 of Set 4 | manzanillo\n",
      "Processing Record 2 of Set 4 | thompson\n",
      "Processing Record 3 of Set 4 | xingyi\n",
      "City not found. Skipping...\n",
      "Processing Record 4 of Set 4 | lugovoy\n",
      "Processing Record 5 of Set 4 | mount isa\n",
      "Processing Record 6 of Set 4 | petropavlovsk-kamchatskiy\n",
      "Processing Record 7 of Set 4 | norman wells\n",
      "Processing Record 8 of Set 4 | tiarei\n",
      "Processing Record 9 of Set 4 | kaitangata\n",
      "City not found. Skipping...\n",
      "Processing Record 10 of Set 4 | bredasdorp\n",
      "Processing Record 11 of Set 4 | kjopsvik\n",
      "Processing Record 12 of Set 4 | la seyne-sur-mer\n",
      "Processing Record 13 of Set 4 | tiruchchendur\n",
      "Processing Record 14 of Set 4 | port lincoln\n",
      "City not found. Skipping...\n",
      "Processing Record 15 of Set 4 | caravelas\n",
      "Processing Record 16 of Set 4 | mantua\n",
      "Processing Record 17 of Set 4 | chuy\n",
      "Processing Record 18 of Set 4 | moss point\n",
      "Processing Record 19 of Set 4 | saskylakh\n",
      "Processing Record 20 of Set 4 | leningradskiy\n",
      "Processing Record 21 of Set 4 | north bend\n",
      "Processing Record 22 of Set 4 | xiaoweizhai\n",
      "City not found. Skipping...\n",
      "Processing Record 23 of Set 4 | ulladulla\n",
      "Processing Record 24 of Set 4 | camana\n",
      "Processing Record 25 of Set 4 | ponta do sol\n",
      "Processing Record 26 of Set 4 | erenhot\n",
      "Processing Record 27 of Set 4 | comodoro rivadavia\n",
      "City not found. Skipping...\n",
      "Processing Record 28 of Set 4 | sidi ali\n",
      "Processing Record 29 of Set 4 | nanakuli\n",
      "Processing Record 30 of Set 4 | antofagasta\n",
      "Processing Record 31 of Set 4 | barcelona\n",
      "City not found. Skipping...\n",
      "Processing Record 32 of Set 4 | vanersborg\n",
      "Processing Record 33 of Set 4 | baykit\n",
      "Processing Record 34 of Set 4 | nanortalik\n",
      "Processing Record 35 of Set 4 | saint-gaudens\n",
      "Processing Record 36 of Set 4 | upernavik\n",
      "Processing Record 37 of Set 4 | celestun\n"
     ]
    },
    {
     "name": "stdout",
     "output_type": "stream",
     "text": [
      "Processing Record 38 of Set 4 | awjilah\n",
      "Processing Record 39 of Set 4 | adwa\n",
      "Processing Record 40 of Set 4 | acambay\n",
      "Processing Record 41 of Set 4 | morwell\n",
      "Processing Record 42 of Set 4 | atambua\n",
      "Processing Record 43 of Set 4 | gushikawa\n",
      "Processing Record 44 of Set 4 | bereda\n",
      "Processing Record 45 of Set 4 | paita\n",
      "Processing Record 46 of Set 4 | dunedin\n",
      "Processing Record 47 of Set 4 | klaksvik\n",
      "Processing Record 48 of Set 4 | xichang\n",
      "Processing Record 49 of Set 4 | kieta\n",
      "Processing Record 1 of Set 5 | sept-iles\n",
      "Processing Record 2 of Set 5 | tuatapere\n",
      "City not found. Skipping...\n",
      "Processing Record 3 of Set 5 | solnechnyy\n",
      "Processing Record 4 of Set 5 | port hedland\n",
      "City not found. Skipping...\n",
      "Processing Record 5 of Set 5 | mogadishu\n",
      "City not found. Skipping...\n",
      "Processing Record 6 of Set 5 | half moon bay\n",
      "Processing Record 7 of Set 5 | sehore\n",
      "Processing Record 8 of Set 5 | narsaq\n",
      "Processing Record 9 of Set 5 | oussouye\n",
      "Processing Record 10 of Set 5 | chumikan\n",
      "Processing Record 11 of Set 5 | pacific grove\n",
      "Processing Record 12 of Set 5 | kavieng\n",
      "Processing Record 13 of Set 5 | bang saphan\n",
      "Processing Record 14 of Set 5 | guerrero negro\n",
      "Processing Record 15 of Set 5 | krechevitsy\n",
      "Processing Record 16 of Set 5 | broome\n",
      "Processing Record 17 of Set 5 | omboue\n",
      "Processing Record 18 of Set 5 | kloulklubed\n",
      "Processing Record 19 of Set 5 | broken hill\n",
      "Processing Record 20 of Set 5 | cidreira\n",
      "Processing Record 21 of Set 5 | ruzomberok\n",
      "Processing Record 22 of Set 5 | lazaro cardenas\n",
      "Processing Record 23 of Set 5 | sinnamary\n",
      "Processing Record 24 of Set 5 | svetlyy\n",
      "Processing Record 25 of Set 5 | altay\n",
      "Processing Record 26 of Set 5 | hurbanovo\n",
      "Processing Record 27 of Set 5 | ribeira brava\n",
      "Processing Record 28 of Set 5 | castro\n",
      "City not found. Skipping...\n",
      "City not found. Skipping...\n",
      "Processing Record 29 of Set 5 | san patricio\n",
      "Processing Record 30 of Set 5 | kadoma\n",
      "Processing Record 31 of Set 5 | porto novo\n",
      "Processing Record 32 of Set 5 | chesapeake\n",
      "Processing Record 33 of Set 5 | mackenzie\n",
      "Processing Record 34 of Set 5 | tuktoyaktuk\n",
      "City not found. Skipping...\n",
      "Processing Record 35 of Set 5 | misratah\n",
      "Processing Record 36 of Set 5 | vila franca do campo\n",
      "Processing Record 37 of Set 5 | fergus falls\n",
      "Processing Record 38 of Set 5 | sangar\n",
      "Processing Record 39 of Set 5 | iqaluit\n",
      "Processing Record 40 of Set 5 | columbus\n",
      "Processing Record 41 of Set 5 | palmerston\n",
      "Processing Record 42 of Set 5 | wyndham\n",
      "Processing Record 43 of Set 5 | smithers\n",
      "Processing Record 44 of Set 5 | kirakira\n",
      "Processing Record 45 of Set 5 | karpogory\n",
      "Processing Record 46 of Set 5 | tutoia\n",
      "Processing Record 47 of Set 5 | kamakwie\n",
      "Processing Record 48 of Set 5 | hirara\n",
      "City not found. Skipping...\n",
      "Processing Record 49 of Set 5 | bac lieu\n",
      "Processing Record 1 of Set 6 | lagos\n",
      "Processing Record 2 of Set 6 | souillac\n",
      "Processing Record 3 of Set 6 | lesnoy\n",
      "Processing Record 4 of Set 6 | sakaiminato\n",
      "Processing Record 5 of Set 6 | cherskiy\n",
      "Processing Record 6 of Set 6 | alta floresta\n",
      "City not found. Skipping...\n",
      "Processing Record 7 of Set 6 | kosa\n",
      "Processing Record 8 of Set 6 | cururupu\n",
      "Processing Record 9 of Set 6 | otavalo\n",
      "Processing Record 10 of Set 6 | mahebourg\n",
      "Processing Record 11 of Set 6 | narrabri\n",
      "Processing Record 12 of Set 6 | fairbanks\n",
      "Processing Record 13 of Set 6 | maragogi\n",
      "Processing Record 14 of Set 6 | skibbereen\n",
      "Processing Record 15 of Set 6 | chortomlyk\n",
      "Processing Record 16 of Set 6 | husavik\n",
      "Processing Record 17 of Set 6 | qaqortoq\n",
      "Processing Record 18 of Set 6 | rio gallegos\n",
      "Processing Record 19 of Set 6 | ocampo\n",
      "Processing Record 20 of Set 6 | banda aceh\n",
      "Processing Record 21 of Set 6 | amga\n",
      "Processing Record 22 of Set 6 | visby\n",
      "Processing Record 23 of Set 6 | torbay\n",
      "Processing Record 24 of Set 6 | krasnyy chikoy\n",
      "Processing Record 25 of Set 6 | hualmay\n",
      "Processing Record 26 of Set 6 | vostok\n",
      "Processing Record 27 of Set 6 | clyde river\n",
      "Processing Record 28 of Set 6 | cotonou\n",
      "Processing Record 29 of Set 6 | awbari\n",
      "Processing Record 30 of Set 6 | amarante\n",
      "Processing Record 31 of Set 6 | colac\n",
      "Processing Record 32 of Set 6 | voznesenye\n",
      "Processing Record 33 of Set 6 | bubaque\n",
      "Processing Record 34 of Set 6 | moose factory\n",
      "Processing Record 35 of Set 6 | wanlaweyn\n",
      "Processing Record 36 of Set 6 | hobyo\n",
      "Processing Record 37 of Set 6 | opuwo\n",
      "Processing Record 38 of Set 6 | shumskiy\n",
      "Processing Record 39 of Set 6 | bosaso\n",
      "Processing Record 40 of Set 6 | goure\n",
      "Processing Record 41 of Set 6 | ribeira grande\n",
      "Processing Record 42 of Set 6 | ajdabiya\n",
      "Processing Record 43 of Set 6 | ossora\n",
      "Processing Record 44 of Set 6 | nuuk\n",
      "Processing Record 45 of Set 6 | neuquen\n",
      "Processing Record 46 of Set 6 | kodiak\n",
      "Processing Record 47 of Set 6 | laguna\n",
      "Processing Record 48 of Set 6 | usak\n",
      "Processing Record 49 of Set 6 | cockburn town\n",
      "Processing Record 1 of Set 7 | dongsheng\n",
      "Processing Record 2 of Set 7 | necochea\n",
      "Processing Record 3 of Set 7 | biak\n",
      "Processing Record 4 of Set 7 | bodden town\n",
      "Processing Record 5 of Set 7 | aklavik\n",
      "Processing Record 6 of Set 7 | moree\n",
      "Processing Record 7 of Set 7 | opelika\n",
      "Processing Record 8 of Set 7 | bathsheba\n",
      "Processing Record 9 of Set 7 | buta\n",
      "Processing Record 10 of Set 7 | sokolo\n",
      "Processing Record 11 of Set 7 | tromso\n",
      "Processing Record 12 of Set 7 | pacifica\n",
      "Processing Record 13 of Set 7 | zakamensk\n",
      "City not found. Skipping...\n",
      "Processing Record 14 of Set 7 | gritsovskiy\n",
      "Processing Record 15 of Set 7 | faya\n",
      "Processing Record 16 of Set 7 | grand gaube\n",
      "Processing Record 17 of Set 7 | lorengau\n",
      "Processing Record 18 of Set 7 | hays\n",
      "City not found. Skipping...\n",
      "Processing Record 19 of Set 7 | kota tinggi\n",
      "Processing Record 20 of Set 7 | auki\n",
      "Processing Record 21 of Set 7 | svetlogorsk\n",
      "Processing Record 22 of Set 7 | bedesa\n",
      "Processing Record 23 of Set 7 | ixtapa\n",
      "Processing Record 24 of Set 7 | olinda\n",
      "Processing Record 25 of Set 7 | apple valley\n",
      "Processing Record 26 of Set 7 | esil\n",
      "Processing Record 27 of Set 7 | osorno\n",
      "Processing Record 28 of Set 7 | evensk\n",
      "Processing Record 29 of Set 7 | south lake tahoe\n",
      "Processing Record 30 of Set 7 | hongjiang\n",
      "Processing Record 31 of Set 7 | cabo san lucas\n",
      "Processing Record 32 of Set 7 | shellbrook\n",
      "Processing Record 33 of Set 7 | sao gabriel da cachoeira\n",
      "Processing Record 34 of Set 7 | fare\n",
      "City not found. Skipping...\n",
      "Processing Record 35 of Set 7 | doka\n",
      "Processing Record 36 of Set 7 | sur\n",
      "Processing Record 37 of Set 7 | qiongshan\n",
      "Processing Record 38 of Set 7 | jumla\n",
      "City not found. Skipping...\n",
      "Processing Record 39 of Set 7 | zhangjiakou\n",
      "Processing Record 40 of Set 7 | tiksi\n",
      "Processing Record 41 of Set 7 | pingliang\n",
      "Processing Record 42 of Set 7 | port-gentil\n",
      "Processing Record 43 of Set 7 | katsuura\n",
      "Processing Record 44 of Set 7 | arraial do cabo\n",
      "Processing Record 45 of Set 7 | zhigansk\n",
      "Processing Record 46 of Set 7 | brae\n",
      "Processing Record 47 of Set 7 | ilhabela\n",
      "Processing Record 48 of Set 7 | mackay\n",
      "Processing Record 49 of Set 7 | khash\n",
      "City not found. Skipping...\n",
      "Processing Record 1 of Set 8 | hamada\n",
      "City not found. Skipping...\n",
      "Processing Record 2 of Set 8 | shieli\n",
      "Processing Record 3 of Set 8 | carmen\n",
      "Processing Record 4 of Set 8 | portland\n",
      "Processing Record 5 of Set 8 | margate\n",
      "Processing Record 6 of Set 8 | kollam\n",
      "Processing Record 7 of Set 8 | talnakh\n",
      "Processing Record 8 of Set 8 | makat\n",
      "Processing Record 9 of Set 8 | chunskiy\n",
      "Processing Record 10 of Set 8 | road town\n",
      "Processing Record 11 of Set 8 | touros\n",
      "City not found. Skipping...\n",
      "Processing Record 12 of Set 8 | houma\n",
      "Processing Record 13 of Set 8 | pareora\n",
      "Processing Record 14 of Set 8 | fort nelson\n",
      "Processing Record 15 of Set 8 | tortoli\n",
      "Processing Record 16 of Set 8 | ukiah\n",
      "Processing Record 17 of Set 8 | krasnoselkup\n",
      "Processing Record 18 of Set 8 | constitucion\n",
      "Processing Record 19 of Set 8 | sola\n",
      "Processing Record 20 of Set 8 | denpasar\n",
      "Processing Record 21 of Set 8 | bhadrachalam\n",
      "City not found. Skipping...\n",
      "City not found. Skipping...\n",
      "Processing Record 22 of Set 8 | kruisfontein\n",
      "Processing Record 23 of Set 8 | rudbar\n",
      "Processing Record 24 of Set 8 | ambovombe\n",
      "Processing Record 25 of Set 8 | tautira\n",
      "Processing Record 26 of Set 8 | raudeberg\n",
      "Processing Record 27 of Set 8 | geraldton\n",
      "Processing Record 28 of Set 8 | tres passos\n",
      "Processing Record 29 of Set 8 | baiyin\n",
      "Processing Record 30 of Set 8 | rong kwang\n",
      "Processing Record 31 of Set 8 | ifanadiana\n",
      "Processing Record 32 of Set 8 | bonthe\n"
     ]
    },
    {
     "name": "stdout",
     "output_type": "stream",
     "text": [
      "City not found. Skipping...\n",
      "Processing Record 33 of Set 8 | sioux city\n",
      "Processing Record 34 of Set 8 | fortuna\n",
      "Processing Record 35 of Set 8 | kirkuk\n",
      "Processing Record 36 of Set 8 | hare bay\n",
      "Processing Record 37 of Set 8 | tank\n",
      "Processing Record 38 of Set 8 | santa cecilia\n",
      "Processing Record 39 of Set 8 | nyurba\n",
      "Processing Record 40 of Set 8 | pevek\n",
      "Processing Record 41 of Set 8 | chaiyaphum\n",
      "Processing Record 42 of Set 8 | mayo\n",
      "Processing Record 43 of Set 8 | yulara\n",
      "Processing Record 44 of Set 8 | shirokiy\n",
      "Processing Record 45 of Set 8 | lewisville\n",
      "Processing Record 46 of Set 8 | vung tau\n",
      "Processing Record 47 of Set 8 | hvolsvollur\n",
      "Processing Record 48 of Set 8 | yining\n",
      "Processing Record 49 of Set 8 | samarai\n",
      "Processing Record 1 of Set 9 | romny\n",
      "Processing Record 2 of Set 9 | bell ville\n",
      "Processing Record 3 of Set 9 | paciran\n",
      "Processing Record 4 of Set 9 | tyukhtet\n",
      "Processing Record 5 of Set 9 | poum\n",
      "Processing Record 6 of Set 9 | dhuburi\n",
      "Processing Record 7 of Set 9 | angoche\n",
      "Processing Record 8 of Set 9 | thinadhoo\n",
      "Processing Record 9 of Set 9 | saint-joseph\n",
      "Processing Record 10 of Set 9 | belaya gora\n",
      "Processing Record 11 of Set 9 | glazunovka\n",
      "Processing Record 12 of Set 9 | mae ramat\n",
      "Processing Record 13 of Set 9 | naziya\n",
      "Processing Record 14 of Set 9 | forestville\n",
      "Processing Record 15 of Set 9 | pirovskoye\n",
      "Processing Record 16 of Set 9 | englewood\n",
      "Processing Record 17 of Set 9 | ipubi\n",
      "City not found. Skipping...\n",
      "Processing Record 18 of Set 9 | eureka\n",
      "Processing Record 19 of Set 9 | ciudad bolivar\n",
      "Processing Record 20 of Set 9 | ormara\n",
      "Processing Record 21 of Set 9 | santa catarina de tepehuanes\n",
      "Processing Record 22 of Set 9 | seydi\n",
      "Processing Record 23 of Set 9 | seoul\n",
      "Processing Record 24 of Set 9 | okato\n",
      "Processing Record 25 of Set 9 | carutapera\n",
      "Processing Record 26 of Set 9 | medina\n",
      "Processing Record 27 of Set 9 | mayumba\n",
      "Processing Record 28 of Set 9 | gazimurskiy zavod\n",
      "City not found. Skipping...\n",
      "City not found. Skipping...\n",
      "Processing Record 29 of Set 9 | bud\n",
      "Processing Record 30 of Set 9 | jizan\n",
      "Processing Record 31 of Set 9 | ust-tsilma\n",
      "Processing Record 32 of Set 9 | dingle\n",
      "Processing Record 33 of Set 9 | luderitz\n",
      "Processing Record 34 of Set 9 | pennsville\n",
      "Processing Record 35 of Set 9 | paranaiba\n",
      "City not found. Skipping...\n",
      "Processing Record 36 of Set 9 | qujing\n",
      "Processing Record 37 of Set 9 | ambilobe\n",
      "City not found. Skipping...\n",
      "Processing Record 38 of Set 9 | zhireken\n",
      "Processing Record 39 of Set 9 | mae hong son\n",
      "Processing Record 40 of Set 9 | miri\n",
      "Processing Record 41 of Set 9 | erzin\n",
      "Processing Record 42 of Set 9 | moerai\n",
      "Processing Record 43 of Set 9 | san policarpo\n",
      "City not found. Skipping...\n",
      "City not found. Skipping...\n",
      "Processing Record 44 of Set 9 | pochutla\n",
      "Processing Record 45 of Set 9 | rochegda\n",
      "Processing Record 46 of Set 9 | bemidji\n",
      "Processing Record 47 of Set 9 | kedougou\n",
      "Processing Record 48 of Set 9 | rolla\n",
      "Processing Record 49 of Set 9 | ipatinga\n",
      "Processing Record 1 of Set 10 | dali\n",
      "Processing Record 2 of Set 10 | bambanglipuro\n",
      "City not found. Skipping...\n",
      "Processing Record 3 of Set 10 | wasilla\n",
      "City not found. Skipping...\n",
      "Processing Record 4 of Set 10 | maiduguri\n",
      "Processing Record 5 of Set 10 | agadez\n",
      "Processing Record 6 of Set 10 | uberaba\n",
      "Processing Record 7 of Set 10 | bairiki\n",
      "Processing Record 8 of Set 10 | hamilton\n",
      "Processing Record 9 of Set 10 | olafsvik\n",
      "Processing Record 10 of Set 10 | bone\n",
      "Processing Record 11 of Set 10 | ahuimanu\n",
      "City not found. Skipping...\n",
      "Processing Record 12 of Set 10 | pangnirtung\n",
      "Processing Record 13 of Set 10 | tazovskiy\n",
      "Processing Record 14 of Set 10 | srednekolymsk\n",
      "Processing Record 15 of Set 10 | chebsara\n",
      "Processing Record 16 of Set 10 | namatanai\n",
      "Processing Record 17 of Set 10 | sayyan\n",
      "Processing Record 18 of Set 10 | isangel\n",
      "Processing Record 19 of Set 10 | patea\n",
      "Processing Record 20 of Set 10 | yantzaza\n",
      "Processing Record 21 of Set 10 | potoru\n",
      "Processing Record 22 of Set 10 | airai\n",
      "Processing Record 23 of Set 10 | vanimo\n",
      "Processing Record 24 of Set 10 | hit\n",
      "Processing Record 25 of Set 10 | tahoua\n",
      "Processing Record 26 of Set 10 | sao joao da ponte\n",
      "Processing Record 27 of Set 10 | guadalupe y calvo\n",
      "Processing Record 28 of Set 10 | severo-kurilsk\n",
      "Processing Record 29 of Set 10 | khandbari\n",
      "Processing Record 30 of Set 10 | amapa\n",
      "Processing Record 31 of Set 10 | coihaique\n",
      "Processing Record 32 of Set 10 | hammerfest\n",
      "Processing Record 33 of Set 10 | muriti\n",
      "Processing Record 34 of Set 10 | puerto penasco\n",
      "City not found. Skipping...\n",
      "Processing Record 35 of Set 10 | punta gorda\n",
      "Processing Record 36 of Set 10 | haljala\n",
      "Processing Record 37 of Set 10 | hailar\n",
      "Processing Record 38 of Set 10 | sinjai\n",
      "Processing Record 39 of Set 10 | teya\n",
      "Processing Record 40 of Set 10 | ravar\n",
      "Processing Record 41 of Set 10 | lakes entrance\n",
      "Processing Record 42 of Set 10 | sri aman\n",
      "Processing Record 43 of Set 10 | jimma\n",
      "Processing Record 44 of Set 10 | grand baie\n",
      "Processing Record 45 of Set 10 | saint pete beach\n",
      "Processing Record 46 of Set 10 | andros\n",
      "Processing Record 47 of Set 10 | bol\n",
      "Processing Record 48 of Set 10 | buala\n",
      "Processing Record 49 of Set 10 | phayao\n",
      "Processing Record 1 of Set 11 | kyrksaeterora\n",
      "Processing Record 2 of Set 11 | vikhorevka\n",
      "Processing Record 3 of Set 11 | piacabucu\n",
      "Processing Record 4 of Set 11 | vitim\n",
      "Processing Record 5 of Set 11 | tessalit\n",
      "Processing Record 6 of Set 11 | inverell\n",
      "Processing Record 7 of Set 11 | kangalassy\n",
      "Processing Record 8 of Set 11 | aasiaat\n",
      "Processing Record 9 of Set 11 | reconquista\n",
      "Processing Record 10 of Set 11 | sistranda\n",
      "Processing Record 11 of Set 11 | umm lajj\n",
      "Processing Record 12 of Set 11 | anjiang\n",
      "Processing Record 13 of Set 11 | kenai\n",
      "Processing Record 14 of Set 11 | luanda\n",
      "Processing Record 15 of Set 11 | changping\n",
      "Processing Record 16 of Set 11 | nioro\n",
      "Processing Record 17 of Set 11 | zuwarah\n",
      "City not found. Skipping...\n",
      "Processing Record 18 of Set 11 | juneau\n",
      "Processing Record 19 of Set 11 | acarau\n",
      "Processing Record 20 of Set 11 | mehamn\n",
      "Processing Record 21 of Set 11 | gamba\n",
      "Processing Record 22 of Set 11 | kavaratti\n",
      "Processing Record 23 of Set 11 | deming\n",
      "City not found. Skipping...\n",
      "City not found. Skipping...\n",
      "Processing Record 24 of Set 11 | lokosovo\n",
      "Processing Record 25 of Set 11 | ler\n",
      "Processing Record 26 of Set 11 | nouakchott\n",
      "Processing Record 27 of Set 11 | los llanos de aridane\n",
      "Processing Record 28 of Set 11 | grindavik\n",
      "Processing Record 29 of Set 11 | deputatskiy\n",
      "Processing Record 30 of Set 11 | byron bay\n",
      "Processing Record 31 of Set 11 | guthrie\n",
      "Processing Record 32 of Set 11 | ternate\n",
      "City not found. Skipping...\n",
      "Processing Record 33 of Set 11 | port macquarie\n",
      "Processing Record 34 of Set 11 | avera\n",
      "Processing Record 35 of Set 11 | bani\n",
      "Processing Record 36 of Set 11 | great yarmouth\n",
      "Processing Record 37 of Set 11 | anton lizardo\n",
      "Processing Record 38 of Set 11 | pano aqil\n",
      "Processing Record 39 of Set 11 | kutum\n",
      "Processing Record 40 of Set 11 | katherine\n",
      "Processing Record 41 of Set 11 | martapura\n",
      "Processing Record 42 of Set 11 | northam\n",
      "Processing Record 43 of Set 11 | ancud\n",
      "Processing Record 44 of Set 11 | nishihara\n",
      "Processing Record 45 of Set 11 | batagay\n",
      "Processing Record 46 of Set 11 | ouango\n",
      "Processing Record 47 of Set 11 | dese\n",
      "Processing Record 48 of Set 11 | alamosa\n",
      "Processing Record 49 of Set 11 | tamiahua\n",
      "Processing Record 1 of Set 12 | flinders\n",
      "Processing Record 2 of Set 12 | anupgarh\n",
      "Processing Record 3 of Set 12 | quatre cocos\n",
      "Processing Record 4 of Set 12 | tabou\n",
      "City not found. Skipping...\n",
      "Processing Record 5 of Set 12 | ahipara\n",
      "City not found. Skipping...\n",
      "Processing Record 6 of Set 12 | benguela\n",
      "Processing Record 7 of Set 12 | karatuzskoye\n",
      "Processing Record 8 of Set 12 | ostrovnoy\n",
      "Processing Record 9 of Set 12 | little current\n",
      "Processing Record 10 of Set 12 | bontang\n",
      "Processing Record 11 of Set 12 | chimbarongo\n",
      "Processing Record 12 of Set 12 | ust-ishim\n",
      "Processing Record 13 of Set 12 | mayskiy\n",
      "Processing Record 14 of Set 12 | anloga\n",
      "Processing Record 15 of Set 12 | pasighat\n",
      "-----------------------------\n",
      "Data Retrieval Complete \n",
      "-----------------------------\n"
     ]
    }
   ],
   "source": [
    "# config url\n",
    "url = f\"http://api.openweathermap.org/data/2.5/weather?units=Imperial&APPID={weather_api_key}&q=\"\n",
    "\n",
    "# create dataframe and columns \n",
    "cities_data_pd = pd.DataFrame({\"City\": cities})\n",
    "cities_data_pd[\"Lat\"] = \"\"\n",
    "cities_data_pd[\"Lng\"] = \"\"\n",
    "cities_data_pd[\"Max Temp\"] = \"\"\n",
    "cities_data_pd[\"Humidity\"] = \"\"\n",
    "cities_data_pd[\"Cloudiness\"] = \"\"\n",
    "cities_data_pd[\"Wind Speed\"] = \"\"\n",
    "cities_data_pd[\"Country\"] = \"\"\n",
    "cities_data_pd[\"Date\"] = \"\"\n",
    "\n",
    "# setting counter to keep track of count and set\n",
    "count_one = 0\n",
    "set_one = 1\n",
    "\n",
    "# Beginning Msg print\n",
    "print(\"Beginning Data Retrieval\")\n",
    "print(\"-----------------------------\")\n",
    "# create loop through each columns in cities list\n",
    "for index, row in cities_data_pd.iterrows():\n",
    "    city = row[\"City\"]\n",
    "    response = requests.get(url + city).json()\n",
    "    \n",
    "    try:     \n",
    "        cities_data_pd.loc[index, \"Cloudiness\"] = response[\"clouds\"][\"all\"]\n",
    "        cities_data_pd.loc[index, \"Country\"] = response[\"sys\"][\"country\"]\n",
    "        cities_data_pd.loc[index, \"Date\"] = response[\"dt\"]\n",
    "        cities_data_pd.loc[index, \"Humidity\"] = response[\"main\"][\"humidity\"]\n",
    "        cities_data_pd.loc[index, \"Lat\"] = response[\"coord\"][\"lat\"]\n",
    "        cities_data_pd.loc[index, \"Lng\"] = response[\"coord\"][\"lon\"]\n",
    "        cities_data_pd.loc[index, \"Max Temp\"] = response[\"main\"][\"temp_max\"]\n",
    "        cities_data_pd.loc[index, \"Wind Speed\"] = response[\"wind\"][\"speed\"]\n",
    "        #create condition for counts and sets        \n",
    "        if count_one > 48:\n",
    "            count_one = 1\n",
    "            set_one += 1\n",
    "        else:\n",
    "            count_one += 1\n",
    "        print(f\"Processing Record {count_one} of Set {set_one} | {city}\")\n",
    "    except (KeyError, IndexError):\n",
    "        print(\"City not found. Skipping...\")\n",
    "        \n",
    "# Endding Msg print\n",
    "print(\"-----------------------------\")\n",
    "print(\"Data Retrieval Complete \")\n",
    "print(\"-----------------------------\")"
   ]
  },
  {
   "cell_type": "markdown",
   "metadata": {},
   "source": [
    "### Convert Raw Data to DataFrame\n",
    "* Export the city data into a .csv.\n",
    "* Display the DataFrame"
   ]
  },
  {
   "cell_type": "code",
   "execution_count": 47,
   "metadata": {},
   "outputs": [
    {
     "data": {
      "text/plain": [
       "City          611\n",
       "Lat           611\n",
       "Lng           611\n",
       "Max Temp      611\n",
       "Humidity      611\n",
       "Cloudiness    611\n",
       "Wind Speed    611\n",
       "Country       611\n",
       "Date          611\n",
       "dtype: int64"
      ]
     },
     "execution_count": 47,
     "metadata": {},
     "output_type": "execute_result"
    }
   ],
   "source": [
    "# show counts of rows in df\n",
    "cities_data_pd.count()"
   ]
  },
  {
   "cell_type": "code",
   "execution_count": 66,
   "metadata": {},
   "outputs": [
    {
     "data": {
      "text/html": [
       "<div>\n",
       "<style scoped>\n",
       "    .dataframe tbody tr th:only-of-type {\n",
       "        vertical-align: middle;\n",
       "    }\n",
       "\n",
       "    .dataframe tbody tr th {\n",
       "        vertical-align: top;\n",
       "    }\n",
       "\n",
       "    .dataframe thead th {\n",
       "        text-align: right;\n",
       "    }\n",
       "</style>\n",
       "<table border=\"1\" class=\"dataframe\">\n",
       "  <thead>\n",
       "    <tr style=\"text-align: right;\">\n",
       "      <th></th>\n",
       "      <th>City</th>\n",
       "      <th>Lat</th>\n",
       "      <th>Lng</th>\n",
       "      <th>Max Temp</th>\n",
       "      <th>Humidity</th>\n",
       "      <th>Cloudiness</th>\n",
       "      <th>Wind Speed</th>\n",
       "      <th>Country</th>\n",
       "      <th>Date</th>\n",
       "    </tr>\n",
       "  </thead>\n",
       "  <tbody>\n",
       "    <tr>\n",
       "      <th>0</th>\n",
       "      <td>buarcos</td>\n",
       "      <td>40.17</td>\n",
       "      <td>-8.88</td>\n",
       "      <td>73.99</td>\n",
       "      <td>78</td>\n",
       "      <td>20</td>\n",
       "      <td>12.75</td>\n",
       "      <td>PT</td>\n",
       "      <td>1595939368</td>\n",
       "    </tr>\n",
       "    <tr>\n",
       "      <th>1</th>\n",
       "      <td>jamestown</td>\n",
       "      <td>42.1</td>\n",
       "      <td>-79.24</td>\n",
       "      <td>72</td>\n",
       "      <td>88</td>\n",
       "      <td>1</td>\n",
       "      <td>5.82</td>\n",
       "      <td>US</td>\n",
       "      <td>1595939368</td>\n",
       "    </tr>\n",
       "    <tr>\n",
       "      <th>2</th>\n",
       "      <td>vaini</td>\n",
       "      <td>-21.2</td>\n",
       "      <td>-175.2</td>\n",
       "      <td>69.8</td>\n",
       "      <td>77</td>\n",
       "      <td>20</td>\n",
       "      <td>10.29</td>\n",
       "      <td>TO</td>\n",
       "      <td>1595939361</td>\n",
       "    </tr>\n",
       "    <tr>\n",
       "      <th>3</th>\n",
       "      <td>kapaa</td>\n",
       "      <td>22.08</td>\n",
       "      <td>-159.32</td>\n",
       "      <td>78.8</td>\n",
       "      <td>83</td>\n",
       "      <td>90</td>\n",
       "      <td>19.46</td>\n",
       "      <td>US</td>\n",
       "      <td>1595939369</td>\n",
       "    </tr>\n",
       "    <tr>\n",
       "      <th>4</th>\n",
       "      <td>karpinsk</td>\n",
       "      <td>59.77</td>\n",
       "      <td>60.01</td>\n",
       "      <td>68.4</td>\n",
       "      <td>45</td>\n",
       "      <td>82</td>\n",
       "      <td>4.76</td>\n",
       "      <td>RU</td>\n",
       "      <td>1595939369</td>\n",
       "    </tr>\n",
       "  </tbody>\n",
       "</table>\n",
       "</div>"
      ],
      "text/plain": [
       "        City    Lat     Lng Max Temp Humidity Cloudiness Wind Speed Country  \\\n",
       "0    buarcos  40.17   -8.88    73.99       78         20      12.75      PT   \n",
       "1  jamestown   42.1  -79.24       72       88          1       5.82      US   \n",
       "2      vaini  -21.2  -175.2     69.8       77         20      10.29      TO   \n",
       "3      kapaa  22.08 -159.32     78.8       83         90      19.46      US   \n",
       "4   karpinsk  59.77   60.01     68.4       45         82       4.76      RU   \n",
       "\n",
       "         Date  \n",
       "0  1595939368  \n",
       "1  1595939368  \n",
       "2  1595939361  \n",
       "3  1595939369  \n",
       "4  1595939369  "
      ]
     },
     "execution_count": 66,
     "metadata": {},
     "output_type": "execute_result"
    }
   ],
   "source": [
    "# display df\n",
    "cities_data_pd.head()"
   ]
  },
  {
   "cell_type": "code",
   "execution_count": 65,
   "metadata": {},
   "outputs": [],
   "source": [
    "# output data to csv\n",
    "cities_data_pd.to_csv(output_data_file)"
   ]
  },
  {
   "cell_type": "markdown",
   "metadata": {},
   "source": [
    "## Inspect the data and remove the cities where the humidity > 100%.\n",
    "----\n",
    "Skip this step if there are no cities that have humidity > 100%. "
   ]
  },
  {
   "cell_type": "code",
   "execution_count": 131,
   "metadata": {},
   "outputs": [
    {
     "data": {
      "text/html": [
       "<div>\n",
       "<style scoped>\n",
       "    .dataframe tbody tr th:only-of-type {\n",
       "        vertical-align: middle;\n",
       "    }\n",
       "\n",
       "    .dataframe tbody tr th {\n",
       "        vertical-align: top;\n",
       "    }\n",
       "\n",
       "    .dataframe thead th {\n",
       "        text-align: right;\n",
       "    }\n",
       "</style>\n",
       "<table border=\"1\" class=\"dataframe\">\n",
       "  <thead>\n",
       "    <tr style=\"text-align: right;\">\n",
       "      <th></th>\n",
       "      <th>City</th>\n",
       "      <th>Lat</th>\n",
       "      <th>Lng</th>\n",
       "      <th>Max Temp</th>\n",
       "      <th>Humidity</th>\n",
       "      <th>Cloudiness</th>\n",
       "      <th>Wind Speed</th>\n",
       "      <th>Country</th>\n",
       "      <th>Date</th>\n",
       "    </tr>\n",
       "  </thead>\n",
       "  <tbody>\n",
       "    <tr>\n",
       "      <th>0</th>\n",
       "      <td>buarcos</td>\n",
       "      <td>40.17</td>\n",
       "      <td>-8.88</td>\n",
       "      <td>73.99</td>\n",
       "      <td>78.0</td>\n",
       "      <td>20.0</td>\n",
       "      <td>12.75</td>\n",
       "      <td>PT</td>\n",
       "      <td>1.595939e+09</td>\n",
       "    </tr>\n",
       "    <tr>\n",
       "      <th>1</th>\n",
       "      <td>jamestown</td>\n",
       "      <td>42.10</td>\n",
       "      <td>-79.24</td>\n",
       "      <td>72.00</td>\n",
       "      <td>88.0</td>\n",
       "      <td>1.0</td>\n",
       "      <td>5.82</td>\n",
       "      <td>US</td>\n",
       "      <td>1.595939e+09</td>\n",
       "    </tr>\n",
       "    <tr>\n",
       "      <th>2</th>\n",
       "      <td>vaini</td>\n",
       "      <td>-21.20</td>\n",
       "      <td>-175.20</td>\n",
       "      <td>69.80</td>\n",
       "      <td>77.0</td>\n",
       "      <td>20.0</td>\n",
       "      <td>10.29</td>\n",
       "      <td>TO</td>\n",
       "      <td>1.595939e+09</td>\n",
       "    </tr>\n",
       "    <tr>\n",
       "      <th>3</th>\n",
       "      <td>kapaa</td>\n",
       "      <td>22.08</td>\n",
       "      <td>-159.32</td>\n",
       "      <td>78.80</td>\n",
       "      <td>83.0</td>\n",
       "      <td>90.0</td>\n",
       "      <td>19.46</td>\n",
       "      <td>US</td>\n",
       "      <td>1.595939e+09</td>\n",
       "    </tr>\n",
       "    <tr>\n",
       "      <th>4</th>\n",
       "      <td>karpinsk</td>\n",
       "      <td>59.77</td>\n",
       "      <td>60.01</td>\n",
       "      <td>68.40</td>\n",
       "      <td>45.0</td>\n",
       "      <td>82.0</td>\n",
       "      <td>4.76</td>\n",
       "      <td>RU</td>\n",
       "      <td>1.595939e+09</td>\n",
       "    </tr>\n",
       "  </tbody>\n",
       "</table>\n",
       "</div>"
      ],
      "text/plain": [
       "        City    Lat     Lng  Max Temp  Humidity  Cloudiness  Wind Speed  \\\n",
       "0    buarcos  40.17   -8.88     73.99      78.0        20.0       12.75   \n",
       "1  jamestown  42.10  -79.24     72.00      88.0         1.0        5.82   \n",
       "2      vaini -21.20 -175.20     69.80      77.0        20.0       10.29   \n",
       "3      kapaa  22.08 -159.32     78.80      83.0        90.0       19.46   \n",
       "4   karpinsk  59.77   60.01     68.40      45.0        82.0        4.76   \n",
       "\n",
       "  Country          Date  \n",
       "0      PT  1.595939e+09  \n",
       "1      US  1.595939e+09  \n",
       "2      TO  1.595939e+09  \n",
       "3      US  1.595939e+09  \n",
       "4      RU  1.595939e+09  "
      ]
     },
     "execution_count": 131,
     "metadata": {},
     "output_type": "execute_result"
    }
   ],
   "source": [
    "weather_csv_file = \"cities_copy.csv\"\n",
    "\n",
    "weather_df = pd.read_csv(weather_csv_file)\n",
    "weather_df = weather_df.drop(weather_df.columns[0], axis =1)\n",
    "\n",
    "weather_df.head()"
   ]
  },
  {
   "cell_type": "code",
   "execution_count": 134,
   "metadata": {},
   "outputs": [
    {
     "data": {
      "text/html": [
       "<div>\n",
       "<style scoped>\n",
       "    .dataframe tbody tr th:only-of-type {\n",
       "        vertical-align: middle;\n",
       "    }\n",
       "\n",
       "    .dataframe tbody tr th {\n",
       "        vertical-align: top;\n",
       "    }\n",
       "\n",
       "    .dataframe thead th {\n",
       "        text-align: right;\n",
       "    }\n",
       "</style>\n",
       "<table border=\"1\" class=\"dataframe\">\n",
       "  <thead>\n",
       "    <tr style=\"text-align: right;\">\n",
       "      <th></th>\n",
       "      <th>City</th>\n",
       "      <th>Lat</th>\n",
       "      <th>Lng</th>\n",
       "      <th>Max Temp</th>\n",
       "      <th>Humidity</th>\n",
       "      <th>Cloudiness</th>\n",
       "      <th>Wind Speed</th>\n",
       "      <th>Country</th>\n",
       "      <th>Date</th>\n",
       "    </tr>\n",
       "  </thead>\n",
       "  <tbody>\n",
       "  </tbody>\n",
       "</table>\n",
       "</div>"
      ],
      "text/plain": [
       "Empty DataFrame\n",
       "Columns: [City, Lat, Lng, Max Temp, Humidity, Cloudiness, Wind Speed, Country, Date]\n",
       "Index: []"
      ]
     },
     "execution_count": 134,
     "metadata": {},
     "output_type": "execute_result"
    }
   ],
   "source": [
    "#  Get the indices of cities that have humidity over 100%.\n",
    "humidity_over = weather_df.loc[weather_df[\"Humidity\"] > 100]\n",
    "humidity_over\n",
    "\n",
    "# since there's no record, there is no cities with humidity over 100."
   ]
  },
  {
   "cell_type": "code",
   "execution_count": 8,
   "metadata": {},
   "outputs": [
    {
     "data": {
      "text/html": [
       "<div>\n",
       "<style scoped>\n",
       "    .dataframe tbody tr th:only-of-type {\n",
       "        vertical-align: middle;\n",
       "    }\n",
       "\n",
       "    .dataframe tbody tr th {\n",
       "        vertical-align: top;\n",
       "    }\n",
       "\n",
       "    .dataframe thead th {\n",
       "        text-align: right;\n",
       "    }\n",
       "</style>\n",
       "<table border=\"1\" class=\"dataframe\">\n",
       "  <thead>\n",
       "    <tr style=\"text-align: right;\">\n",
       "      <th></th>\n",
       "      <th>City</th>\n",
       "      <th>Lat</th>\n",
       "      <th>Lng</th>\n",
       "      <th>Max Temp</th>\n",
       "      <th>Humidity</th>\n",
       "      <th>Cloudiness</th>\n",
       "      <th>Wind Speed</th>\n",
       "      <th>Country</th>\n",
       "      <th>Date</th>\n",
       "    </tr>\n",
       "  </thead>\n",
       "  <tbody>\n",
       "    <tr>\n",
       "      <th>0</th>\n",
       "      <td>pimentel</td>\n",
       "      <td>-6.84</td>\n",
       "      <td>-79.93</td>\n",
       "      <td>66.20</td>\n",
       "      <td>29</td>\n",
       "      <td>75</td>\n",
       "      <td>5.82</td>\n",
       "      <td>PE</td>\n",
       "      <td>1585764415</td>\n",
       "    </tr>\n",
       "    <tr>\n",
       "      <th>1</th>\n",
       "      <td>victoria</td>\n",
       "      <td>22.29</td>\n",
       "      <td>114.16</td>\n",
       "      <td>69.01</td>\n",
       "      <td>88</td>\n",
       "      <td>40</td>\n",
       "      <td>18.34</td>\n",
       "      <td>HK</td>\n",
       "      <td>1585764288</td>\n",
       "    </tr>\n",
       "    <tr>\n",
       "      <th>2</th>\n",
       "      <td>padang</td>\n",
       "      <td>-0.95</td>\n",
       "      <td>100.35</td>\n",
       "      <td>79.90</td>\n",
       "      <td>75</td>\n",
       "      <td>99</td>\n",
       "      <td>1.63</td>\n",
       "      <td>ID</td>\n",
       "      <td>1585764115</td>\n",
       "    </tr>\n",
       "    <tr>\n",
       "      <th>3</th>\n",
       "      <td>hasaki</td>\n",
       "      <td>35.73</td>\n",
       "      <td>140.83</td>\n",
       "      <td>55.00</td>\n",
       "      <td>100</td>\n",
       "      <td>75</td>\n",
       "      <td>4.70</td>\n",
       "      <td>JP</td>\n",
       "      <td>1585764415</td>\n",
       "    </tr>\n",
       "    <tr>\n",
       "      <th>4</th>\n",
       "      <td>kahului</td>\n",
       "      <td>20.89</td>\n",
       "      <td>-156.47</td>\n",
       "      <td>70.00</td>\n",
       "      <td>88</td>\n",
       "      <td>1</td>\n",
       "      <td>7.63</td>\n",
       "      <td>US</td>\n",
       "      <td>1585764415</td>\n",
       "    </tr>\n",
       "  </tbody>\n",
       "</table>\n",
       "</div>"
      ],
      "text/plain": [
       "       City    Lat     Lng  Max Temp  Humidity  Cloudiness  Wind Speed  \\\n",
       "0  pimentel  -6.84  -79.93     66.20        29          75        5.82   \n",
       "1  victoria  22.29  114.16     69.01        88          40       18.34   \n",
       "2    padang  -0.95  100.35     79.90        75          99        1.63   \n",
       "3    hasaki  35.73  140.83     55.00       100          75        4.70   \n",
       "4   kahului  20.89 -156.47     70.00        88           1        7.63   \n",
       "\n",
       "  Country        Date  \n",
       "0      PE  1585764415  \n",
       "1      HK  1585764288  \n",
       "2      ID  1585764115  \n",
       "3      JP  1585764415  \n",
       "4      US  1585764415  "
      ]
     },
     "execution_count": 8,
     "metadata": {},
     "output_type": "execute_result"
    }
   ],
   "source": [
    "# Make a new DataFrame equal to the city data to drop all humidity outliers by index.\n",
    "# Passing \"inplace=False\" will make a copy of the city_data DataFrame, which we call \"clean_city_data\".\n"
   ]
  },
  {
   "cell_type": "code",
   "execution_count": 9,
   "metadata": {},
   "outputs": [],
   "source": [
    "# Extract relevant fields from the data frame\n",
    "\n",
    "\n",
    "# Export the City_Data into a csv\n"
   ]
  },
  {
   "cell_type": "markdown",
   "metadata": {},
   "source": [
    "## Plotting the Data\n",
    "* Use proper labeling of the plots using plot titles (including date of analysis) and axes labels.\n",
    "* Save the plotted figures as .pngs."
   ]
  },
  {
   "cell_type": "markdown",
   "metadata": {},
   "source": [
    "## Latitude vs. Temperature Plot"
   ]
  },
  {
   "cell_type": "code",
   "execution_count": 128,
   "metadata": {},
   "outputs": [
    {
     "data": {
      "image/png": "[encoded data removed]",
      "text/plain": [
       "<Figure size 432x288 with 1 Axes>"
      ]
     },
     "metadata": {
      "needs_background": "light"
     },
     "output_type": "display_data"
    }
   ],
   "source": [
    "\n",
    "plt.scatter(weather_df[\"Lat\"],weather_df[\"Max Temp\"],edgecolors=\"black\",facecolors=\"skyblue\")\n",
    "plt.title(f\"City Latitude vs. Max Temperature {date}\")\n",
    "plt.xlabel(\"Latitude\")\n",
    "plt.ylabel(\"Max Temperature (F)\")\n",
    "plt.grid (b=True,which=\"major\",axis=\"both\",linestyle=\"-\",color=\"lightgrey\")\n",
    "plt.show()\n",
    "\n"
   ]
  },
  {
   "cell_type": "markdown",
   "metadata": {},
   "source": [
    "## Latitude vs. Humidity Plot"
   ]
  },
  {
   "cell_type": "code",
   "execution_count": 114,
   "metadata": {},
   "outputs": [
    {
     "data": {
      "image/png": "[encoded data removed]",
      "text/plain": [
       "<Figure size 432x288 with 1 Axes>"
      ]
     },
     "metadata": {
      "needs_background": "light"
     },
     "output_type": "display_data"
    }
   ],
   "source": [
    "\n",
    "plt.scatter(weather_df[\"Lat\"], weather_df[\"Humidity\"], marker=\"o\", facecolor=\"blue\", edgecolor=\"black\")\n",
    "date = time.strftime(\"%m/%d/%Y\")\n",
    "plt.title(f\"City Latitude vs. Humidity ({date})\")\n",
    "plt.ylabel(\"Humidity (%)\")\n",
    "plt.xlabel(\"Latitude\")\n",
    "plt.grid(True)\n",
    "\n",
    "plt.savefig(\"LatHumidity.png\")\n"
   ]
  },
  {
   "cell_type": "markdown",
   "metadata": {},
   "source": [
    "## Latitude vs. Cloudiness Plot"
   ]
  },
  {
   "cell_type": "code",
   "execution_count": 116,
   "metadata": {},
   "outputs": [
    {
     "data": {
      "image/png": "[encoded data removed]",
      "text/plain": [
       "<Figure size 432x288 with 1 Axes>"
      ]
     },
     "metadata": {
      "needs_background": "light"
     },
     "output_type": "display_data"
    }
   ],
   "source": [
    "plt.scatter(weather_df[\"Lat\"], weather_df[\"Cloudiness\"], marker=\"o\", facecolor=\"blue\", edgecolor=\"black\")\n",
    "date = time.strftime(\"%m/%d/%Y\")\n",
    "plt.title(f\"City Latitude vs. Cloudiness ({date})\")\n",
    "plt.ylabel(\"Cloudiness (%)\")\n",
    "plt.xlabel(\"Latitude\")\n",
    "plt.grid(True)\n",
    "\n",
    "plt.savefig(\"LatCloudiness.png\")"
   ]
  },
  {
   "cell_type": "markdown",
   "metadata": {},
   "source": [
    "## Latitude vs. Wind Speed Plot"
   ]
  },
  {
   "cell_type": "code",
   "execution_count": 117,
   "metadata": {},
   "outputs": [
    {
     "data": {
      "image/png": "[encoded data removed]",
      "text/plain": [
       "<Figure size 432x288 with 1 Axes>"
      ]
     },
     "metadata": {
      "needs_background": "light"
     },
     "output_type": "display_data"
    }
   ],
   "source": [
    "plt.scatter(weather_df[\"Lat\"], weather_df[\"Wind Speed\"], marker=\"o\", facecolor=\"blue\", edgecolor=\"black\")\n",
    "date = time.strftime(\"%m/%d/%Y\")\n",
    "plt.title(f\"City Latitude vs. Wind Speed ({date})\")\n",
    "plt.ylabel(\"Wind Speed (mph)\")\n",
    "plt.xlabel(\"Latitude\")\n",
    "plt.grid(True)\n",
    "\n",
    "plt.savefig(\"LatWindSpeed.png\")"
   ]
  },
  {
   "cell_type": "markdown",
   "metadata": {},
   "source": [
    "## Linear Regression"
   ]
  },
  {
   "cell_type": "code",
   "execution_count": 14,
   "metadata": {},
   "outputs": [],
   "source": [
    "# OPTIONAL: Create a function to create Linear Regression plots"
   ]
  },
  {
   "cell_type": "code",
   "execution_count": 15,
   "metadata": {},
   "outputs": [],
   "source": [
    "# Create Northern and Southern Hemisphere DataFrames"
   ]
  },
  {
   "cell_type": "markdown",
   "metadata": {},
   "source": [
    "####  Northern Hemisphere - Max Temp vs. Latitude Linear Regression"
   ]
  },
  {
   "cell_type": "code",
   "execution_count": 16,
   "metadata": {},
   "outputs": [
    {
     "name": "stdout",
     "output_type": "stream",
     "text": [
      "The r-squared is: 0.8271188905041935\n"
     ]
    },
    {
     "data": {
      "image/png": "[encoded data removed]",
      "text/plain": [
       "<Figure size 432x288 with 1 Axes>"
      ]
     },
     "metadata": {
      "needs_background": "light"
     },
     "output_type": "display_data"
    }
   ],
   "source": []
  },
  {
   "cell_type": "markdown",
   "metadata": {},
   "source": [
    "####  Southern Hemisphere - Max Temp vs. Latitude Linear Regression"
   ]
  },
  {
   "cell_type": "code",
   "execution_count": 17,
   "metadata": {},
   "outputs": [
    {
     "name": "stdout",
     "output_type": "stream",
     "text": [
      "The r-squared is: 0.39936284758885965\n"
     ]
    },
    {
     "data": {
      "image/png": "[encoded data removed]",
      "text/plain": [
       "<Figure size 432x288 with 1 Axes>"
      ]
     },
     "metadata": {
      "needs_background": "light"
     },
     "output_type": "display_data"
    }
   ],
   "source": []
  },
  {
   "cell_type": "markdown",
   "metadata": {},
   "source": [
    "####  Northern Hemisphere - Humidity (%) vs. Latitude Linear Regression"
   ]
  },
  {
   "cell_type": "code",
   "execution_count": 18,
   "metadata": {},
   "outputs": [
    {
     "name": "stdout",
     "output_type": "stream",
     "text": [
      "The r-squared is: 0.10829462153873139\n"
     ]
    },
    {
     "data": {
      "image/png": "[encoded data removed]",
      "text/plain": [
       "<Figure size 432x288 with 1 Axes>"
      ]
     },
     "metadata": {
      "needs_background": "light"
     },
     "output_type": "display_data"
    }
   ],
   "source": []
  },
  {
   "cell_type": "markdown",
   "metadata": {},
   "source": [
    "####  Southern Hemisphere - Humidity (%) vs. Latitude Linear Regression"
   ]
  },
  {
   "cell_type": "code",
   "execution_count": 19,
   "metadata": {},
   "outputs": [
    {
     "name": "stdout",
     "output_type": "stream",
     "text": [
      "The r-squared is: 0.0008996079328825663\n"
     ]
    },
    {
     "data": {
      "image/png": "[encoded data removed]",
      "text/plain": [
       "<Figure size 432x288 with 1 Axes>"
      ]
     },
     "metadata": {
      "needs_background": "light"
     },
     "output_type": "display_data"
    }
   ],
   "source": []
  },
  {
   "cell_type": "markdown",
   "metadata": {},
   "source": [
    "####  Northern Hemisphere - Cloudiness (%) vs. Latitude Linear Regression"
   ]
  },
  {
   "cell_type": "code",
   "execution_count": 20,
   "metadata": {},
   "outputs": [
    {
     "name": "stdout",
     "output_type": "stream",
     "text": [
      "The r-squared is: 0.05768812657005063\n"
     ]
    },
    {
     "data": {
      "image/png": "[encoded data removed]",
      "text/plain": [
       "<Figure size 432x288 with 1 Axes>"
      ]
     },
     "metadata": {
      "needs_background": "light"
     },
     "output_type": "display_data"
    }
   ],
   "source": []
  },
  {
   "cell_type": "markdown",
   "metadata": {},
   "source": [
    "####  Southern Hemisphere - Cloudiness (%) vs. Latitude Linear Regression"
   ]
  },
  {
   "cell_type": "code",
   "execution_count": 21,
   "metadata": {},
   "outputs": [
    {
     "name": "stdout",
     "output_type": "stream",
     "text": [
      "The r-squared is: 0.0684912094859049\n"
     ]
    },
    {
     "data": {
      "image/png": "[encoded data removed]",
      "text/plain": [
       "<Figure size 432x288 with 1 Axes>"
      ]
     },
     "metadata": {
      "needs_background": "light"
     },
     "output_type": "display_data"
    }
   ],
   "source": []
  },
  {
   "cell_type": "markdown",
   "metadata": {},
   "source": [
    "####  Northern Hemisphere - Wind Speed (mph) vs. Latitude Linear Regression"
   ]
  },
  {
   "cell_type": "code",
   "execution_count": 22,
   "metadata": {},
   "outputs": [
    {
     "name": "stdout",
     "output_type": "stream",
     "text": [
      "The r-squared is: 0.023371104533850804\n"
     ]
    },
    {
     "data": {
      "image/png": "[encoded data removed]",
      "text/plain": [
       "<Figure size 432x288 with 1 Axes>"
      ]
     },
     "metadata": {
      "needs_background": "light"
     },
     "output_type": "display_data"
    }
   ],
   "source": []
  },
  {
   "cell_type": "markdown",
   "metadata": {},
   "source": [
    "####  Southern Hemisphere - Wind Speed (mph) vs. Latitude Linear Regression"
   ]
  },
  {
   "cell_type": "code",
   "execution_count": 23,
   "metadata": {},
   "outputs": [
    {
     "name": "stdout",
     "output_type": "stream",
     "text": [
      "The r-squared is: 0.03381889207758188\n"
     ]
    },
    {
     "data": {
      "image/png": "[encoded data removed]",
      "text/plain": [
       "<Figure size 432x288 with 1 Axes>"
      ]
     },
     "metadata": {
      "needs_background": "light"
     },
     "output_type": "display_data"
    }
   ],
   "source": []
  },
  {
   "cell_type": "code",
   "execution_count": null,
   "metadata": {},
   "outputs": [],
   "source": []
  }
 ],
 "metadata": {
  "anaconda-cloud": {},
  "kernel_info": {
   "name": "python3"
  },
  "kernelspec": {
   "display_name": "PythonData",
   "language": "python",
   "name": "pythondata"
  },
  "language_info": {
   "codemirror_mode": {
    "name": "ipython",
    "version": 3
   },
   "file_extension": ".py",
   "mimetype": "text/x-python",
   "name": "python",
   "nbconvert_exporter": "python",
   "pygments_lexer": "ipython3",
   "version": "3.6.10"
  },
  "latex_envs": {
   "LaTeX_envs_menu_present": true,
   "autoclose": false,
   "autocomplete": true,
   "bibliofile": "biblio.bib",
   "cite_by": "apalike",
   "current_citInitial": 1,
   "eqLabelWithNumbers": true,
   "eqNumInitial": 1,
   "hotkeys": {
    "equation": "Ctrl-E",
    "itemize": "Ctrl-I"
   },
   "labels_anchors": false,
   "latex_user_defs": false,
   "report_style_numbering": false,
   "user_envs_cfg": false
  },
  "nteract": {
   "version": "0.12.3"
  }
 },
 "nbformat": 4,
 "nbformat_minor": 2
}
